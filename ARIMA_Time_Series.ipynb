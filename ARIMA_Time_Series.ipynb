{
 "cells": [
  {
   "cell_type": "code",
   "execution_count": 3,
   "metadata": {},
   "outputs": [],
   "source": [
    "import pandas as pd\n",
    "import time\n",
    "\n",
    "import matplotlib.pyplot as plt\n",
    "import plotly.express as px\n",
    "\n",
    "from sklearn.metrics import mean_absolute_error\n",
    "from statsmodels.tsa.arima.model import ARIMA\n",
    "\n",
    "import warnings\n",
    "warnings.filterwarnings('ignore')"
   ]
  },
  {
   "cell_type": "code",
   "execution_count": 4,
   "metadata": {},
   "outputs": [],
   "source": [
    "# Read csv files\n",
    "train_df = pd.read_csv(\"DailyDelhiClimateTrain.csv\", parse_dates=True,index_col='date')\n",
    "test_df = pd.read_csv(\"DailyDelhiClimateTest.csv\", parse_dates=True,index_col='date')"
   ]
  },
  {
   "cell_type": "markdown",
   "metadata": {},
   "source": [
    "#### Since we've done all the EDA in Linear_Regression and Autoregresive Notebooks we'll directly jump to the model building"
   ]
  },
  {
   "cell_type": "markdown",
   "metadata": {},
   "source": [
    "Let's see if which hyperparameters are best for our model"
   ]
  },
  {
   "cell_type": "code",
   "execution_count": 21,
   "metadata": {},
   "outputs": [
    {
     "name": "stdout",
     "output_type": "stream",
     "text": [
      "(0, 0, 0) took 0.47850704193115234 seconds\n",
      "(0, 0, 1) took 0.7290689945220947 seconds\n",
      "(0, 0, 2) took 1.2055869102478027 seconds\n",
      "(0, 0, 3) took 1.5931429862976074 seconds\n",
      "(0, 0, 4) took 1.336883783340454 seconds\n",
      "(4, 0, 0) took 1.674980878829956 seconds\n",
      "(4, 0, 1) took 3.325113534927368 seconds\n",
      "(4, 0, 2) took 3.784268856048584 seconds\n",
      "(4, 0, 3) took 4.963956117630005 seconds\n",
      "(4, 0, 4) took 6.809452056884766 seconds\n",
      "(8, 0, 0) took 6.1965858936309814 seconds\n",
      "(8, 0, 1) took 9.624533891677856 seconds\n",
      "(8, 0, 2) took 9.452949285507202 seconds\n",
      "(8, 0, 3) took 14.554935693740845 seconds\n",
      "(8, 0, 4) took 15.67758822441101 seconds\n",
      "(12, 0, 0) took 6.698889493942261 seconds\n",
      "(12, 0, 1) took 5.0459465980529785 seconds\n",
      "(12, 0, 2) took 6.787212133407593 seconds\n",
      "(12, 0, 3) took 8.491490840911865 seconds\n",
      "(12, 0, 4) took 14.08377742767334 seconds\n",
      "(16, 0, 0) took 8.779295444488525 seconds\n",
      "(16, 0, 1) took 15.744637250900269 seconds\n",
      "(16, 0, 2) took 18.833277702331543 seconds\n",
      "(16, 0, 3) took 22.06734871864319 seconds\n",
      "(16, 0, 4) took 34.44452142715454 seconds\n",
      "(20, 0, 0) took 24.773190021514893 seconds\n",
      "(20, 0, 1) took 44.76141881942749 seconds\n",
      "(20, 0, 2) took 48.787227392196655 seconds\n",
      "(20, 0, 3) took 55.14443516731262 seconds\n",
      "(20, 0, 4) took 45.706477642059326 seconds\n",
      "(24, 0, 0) took 44.72773551940918 seconds\n",
      "(24, 0, 1) took 55.946436643600464 seconds\n",
      "(24, 0, 2) took 47.738977670669556 seconds\n",
      "(24, 0, 3) took 50.97167754173279 seconds\n",
      "(24, 0, 4) took 62.450780630111694 seconds\n",
      "(28, 0, 0) took 45.72249746322632 seconds\n",
      "(28, 0, 1) took 45.07171654701233 seconds\n",
      "(28, 0, 2) took 79.35858273506165 seconds\n",
      "(28, 0, 3) took 81.28422212600708 seconds\n",
      "(28, 0, 4) took 90.57680249214172 seconds\n"
     ]
    }
   ],
   "source": [
    "# Set the frequency explicitly to daily ('D')\n",
    "train_df = train_df.asfreq('D')\n",
    "X_train = train_df['meantemp']\n",
    "\n",
    "p_ = range(0, 29, 4) # lags \n",
    "q_ = range(0, 5) # residuals\n",
    "\n",
    "mae_dict =  {}\n",
    "for p in p_:\n",
    "    mae_dict[p] = []\n",
    "    for q in q_:\n",
    "        # (p, d, q)\n",
    "        # Where d is the number of differencing required to make the time series stationary.\n",
    "        order = (p, 0, q)\n",
    "        # let's see what time it takes to train each set of hyperparameters\n",
    "        start_time = time.time()\n",
    "        # fit the model\n",
    "        model = ARIMA(X_train, order=order).fit()\n",
    "        # get elapsed time\n",
    "        elapsed = time.time() - start_time\n",
    "        # get_predictions\n",
    "        pred = model.predict()\n",
    "        # get the Mean Squared Error for each set of hyperparameters\n",
    "        mae = mean_absolute_error(X_train, pred)\n",
    "        mae_dict[p].append(mae)\n",
    "        print(f'{order} took {elapsed} seconds')\n"
   ]
  },
  {
   "cell_type": "code",
   "execution_count": 23,
   "metadata": {},
   "outputs": [
    {
     "data": {
      "text/html": [
       "<div>\n",
       "<style scoped>\n",
       "    .dataframe tbody tr th:only-of-type {\n",
       "        vertical-align: middle;\n",
       "    }\n",
       "\n",
       "    .dataframe tbody tr th {\n",
       "        vertical-align: top;\n",
       "    }\n",
       "\n",
       "    .dataframe thead th {\n",
       "        text-align: right;\n",
       "    }\n",
       "</style>\n",
       "<table border=\"1\" class=\"dataframe\">\n",
       "  <thead>\n",
       "    <tr style=\"text-align: right;\">\n",
       "      <th></th>\n",
       "      <th>0</th>\n",
       "      <th>4</th>\n",
       "      <th>8</th>\n",
       "      <th>12</th>\n",
       "      <th>16</th>\n",
       "      <th>20</th>\n",
       "      <th>24</th>\n",
       "      <th>28</th>\n",
       "    </tr>\n",
       "  </thead>\n",
       "  <tbody>\n",
       "    <tr>\n",
       "      <th>0</th>\n",
       "      <td>6.362671</td>\n",
       "      <td>1.231178</td>\n",
       "      <td>1.225520</td>\n",
       "      <td>1.226056</td>\n",
       "      <td>1.225962</td>\n",
       "      <td>1.221609</td>\n",
       "      <td>1.212815</td>\n",
       "      <td>1.213977</td>\n",
       "    </tr>\n",
       "    <tr>\n",
       "      <th>1</th>\n",
       "      <td>3.660689</td>\n",
       "      <td>1.227950</td>\n",
       "      <td>1.227584</td>\n",
       "      <td>1.226080</td>\n",
       "      <td>1.215009</td>\n",
       "      <td>1.209851</td>\n",
       "      <td>1.213022</td>\n",
       "      <td>1.214061</td>\n",
       "    </tr>\n",
       "    <tr>\n",
       "      <th>2</th>\n",
       "      <td>2.596784</td>\n",
       "      <td>1.226385</td>\n",
       "      <td>1.225888</td>\n",
       "      <td>1.226323</td>\n",
       "      <td>1.205452</td>\n",
       "      <td>1.222745</td>\n",
       "      <td>1.212997</td>\n",
       "      <td>1.208292</td>\n",
       "    </tr>\n",
       "    <tr>\n",
       "      <th>3</th>\n",
       "      <td>2.114020</td>\n",
       "      <td>1.226204</td>\n",
       "      <td>1.222505</td>\n",
       "      <td>1.226463</td>\n",
       "      <td>1.222953</td>\n",
       "      <td>1.210189</td>\n",
       "      <td>1.203306</td>\n",
       "      <td>1.217994</td>\n",
       "    </tr>\n",
       "    <tr>\n",
       "      <th>4</th>\n",
       "      <td>1.877519</td>\n",
       "      <td>1.226989</td>\n",
       "      <td>1.224228</td>\n",
       "      <td>1.226541</td>\n",
       "      <td>1.225267</td>\n",
       "      <td>1.211004</td>\n",
       "      <td>1.202648</td>\n",
       "      <td>1.200346</td>\n",
       "    </tr>\n",
       "  </tbody>\n",
       "</table>\n",
       "</div>"
      ],
      "text/plain": [
       "         0         4         8         12        16        20        24  \\\n",
       "0  6.362671  1.231178  1.225520  1.226056  1.225962  1.221609  1.212815   \n",
       "1  3.660689  1.227950  1.227584  1.226080  1.215009  1.209851  1.213022   \n",
       "2  2.596784  1.226385  1.225888  1.226323  1.205452  1.222745  1.212997   \n",
       "3  2.114020  1.226204  1.222505  1.226463  1.222953  1.210189  1.203306   \n",
       "4  1.877519  1.226989  1.224228  1.226541  1.225267  1.211004  1.202648   \n",
       "\n",
       "         28  \n",
       "0  1.213977  \n",
       "1  1.214061  \n",
       "2  1.208292  \n",
       "3  1.217994  \n",
       "4  1.200346  "
      ]
     },
     "execution_count": 23,
     "metadata": {},
     "output_type": "execute_result"
    }
   ],
   "source": [
    "# Put our findings into a dataframe\n",
    "mae_df = pd.DataFrame(mae_dict)\n",
    "mae_df"
   ]
  },
  {
   "cell_type": "code",
   "execution_count": 26,
   "metadata": {},
   "outputs": [
    {
     "name": "stdout",
     "output_type": "stream",
     "text": [
      "Lowest MAE: 1.2003463291448946\n",
      "Best hyperparemeters p:28 , q:4\n"
     ]
    }
   ],
   "source": [
    "# Find the minimum value in the entire DataFrame\n",
    "min_value = mae_df.min().min()\n",
    "\n",
    "# Get the row and column index of the minimum value\n",
    "# Use `unstack` to reshape the DataFrame and find the index of the min value\n",
    "min_location = mae_df.unstack().idxmin()\n",
    "\n",
    "# Separate the row index and column name\n",
    "p, q = min_location\n",
    "\n",
    "print(f\"Lowest MAE: {min_value}\")\n",
    "print(f\"Best hyperparemeters p:{p} , q:{q}\")"
   ]
  },
  {
   "cell_type": "code",
   "execution_count": 29,
   "metadata": {},
   "outputs": [
    {
     "data": {
      "image/png": "[encoded data removed]",
      "text/plain": [
       "<Figure size 1500x900 with 5 Axes>"
      ]
     },
     "metadata": {},
     "output_type": "display_data"
    }
   ],
   "source": [
    "fig, ax = plt.subplots(figsize=(15, 9))\n",
    "model.plot_diagnostics(fig = fig);"
   ]
  },
  {
   "cell_type": "code",
   "execution_count": 44,
   "metadata": {},
   "outputs": [
    {
     "name": "stdout",
     "output_type": "stream",
     "text": [
      "date\n",
      "2017-01-01    11.535124\n",
      "2017-01-02    15.794084\n",
      "2017-01-03    18.155550\n",
      "2017-01-04    16.194706\n",
      "2017-01-05    17.845060\n",
      "                ...    \n",
      "2017-04-20    33.074472\n",
      "2017-04-21    33.757018\n",
      "2017-04-22    33.667151\n",
      "2017-04-23    32.865596\n",
      "2017-04-24    32.869157\n",
      "Freq: D, Length: 114, dtype: float64\n"
     ]
    }
   ],
   "source": [
    "# perfom a walk foward validatiion on ARIMA model with the best set of hyperparameters\n",
    "# We'll not use the (24, 0, 2) model since it's resource intensive.\n",
    "# instead we'll use the (16,0,2) model wich train will almost 1/4 the time of the (24,0,2) model and has a mae of 1.205452\n",
    "\n",
    "# Set the frequency explicitly to daily ('D')\n",
    "test_df = test_df.asfreq('D')\n",
    "\n",
    "\n",
    "X_test = test_df['meantemp']\n",
    "pred_wfv = []\n",
    "history = list(X_train) # make history a list since python 3 does not support appending to Series\n",
    "for i in range(len(X_test)):\n",
    "    try:\n",
    "        # Fit mode with history such that the last value in history will predict the next value\n",
    "        model = ARIMA(history, order = (16,0,2))\n",
    "        model.initialize_approximate_diffuse() # This is to prevent the error: LU decomposition error.\n",
    "        model = model.fit()\n",
    "        # Preduct the next value from history\n",
    "        next_pred = model.forecast()\n",
    "        # Append value to predicted walk forward validation \n",
    "        # Since model.forecast() returns a numpy array, we need to extract the value from the array\n",
    "        pred_wfv.append(next_pred[0])\n",
    "        #Append X_test to history to make the model ready for the next prediction\n",
    "        history.append(X_test.iloc[i])\n",
    "\n",
    "    except Exception as e:\n",
    "        print(f'An error occured in model fitting {e}')\n",
    "        \n",
    "\n",
    "# Convert predictions to Pandas Series (if needed)\n",
    "pred_wfv = pd.Series(pred_wfv, index=X_test.index)\n",
    "print(pred_wfv)"
   ]
  },
  {
   "cell_type": "code",
   "execution_count": 45,
   "metadata": {},
   "outputs": [
    {
     "name": "stdout",
     "output_type": "stream",
     "text": [
      "1.3546804833869133\n"
     ]
    }
   ],
   "source": [
    "## Re_calculate the MAE again\n",
    "test_MAE = mean_absolute_error(X_test, pred_wfv)\n",
    "print((test_MAE))\n",
    "\n",
    "#We beat the baseline!"
   ]
  },
  {
   "cell_type": "code",
   "execution_count": 46,
   "metadata": {},
   "outputs": [
    {
     "data": {
      "application/vnd.plotly.v1+json": {
       "config": {
        "plotlyServerURL": "https://plot.ly"
       },
       "data": [
        {
         "hovertemplate": "variable=test_df<br>date=%{x}<br>meantemp=%{y}<extra></extra>",
         "legendgroup": "test_df",
         "line": {
          "color": "#636efa",
          "dash": "solid"
         },
         "marker": {
          "symbol": "circle"
         },
         "mode": "lines",
         "name": "test_df",
         "orientation": "v",
         "showlegend": true,
         "type": "scatter",
         "x": [
          "2017-01-01T00:00:00",
          "2017-01-02T00:00:00",
          "2017-01-03T00:00:00",
          "2017-01-04T00:00:00",
          "2017-01-05T00:00:00",
          "2017-01-06T00:00:00",
          "2017-01-07T00:00:00",
          "2017-01-08T00:00:00",
          "2017-01-09T00:00:00",
          "2017-01-10T00:00:00",
          "2017-01-11T00:00:00",
          "2017-01-12T00:00:00",
          "2017-01-13T00:00:00",
          "2017-01-14T00:00:00",
          "2017-01-15T00:00:00",
          "2017-01-16T00:00:00",
          "2017-01-17T00:00:00",
          "2017-01-18T00:00:00",
          "2017-01-19T00:00:00",
          "2017-01-20T00:00:00",
          "2017-01-21T00:00:00",
          "2017-01-22T00:00:00",
          "2017-01-23T00:00:00",
          "2017-01-24T00:00:00",
          "2017-01-25T00:00:00",
          "2017-01-26T00:00:00",
          "2017-01-27T00:00:00",
          "2017-01-28T00:00:00",
          "2017-01-29T00:00:00",
          "2017-01-30T00:00:00",
          "2017-01-31T00:00:00",
          "2017-02-01T00:00:00",
          "2017-02-02T00:00:00",
          "2017-02-03T00:00:00",
          "2017-02-04T00:00:00",
          "2017-02-05T00:00:00",
          "2017-02-06T00:00:00",
          "2017-02-07T00:00:00",
          "2017-02-08T00:00:00",
          "2017-02-09T00:00:00",
          "2017-02-10T00:00:00",
          "2017-02-11T00:00:00",
          "2017-02-12T00:00:00",
          "2017-02-13T00:00:00",
          "2017-02-14T00:00:00",
          "2017-02-15T00:00:00",
          "2017-02-16T00:00:00",
          "2017-02-17T00:00:00",
          "2017-02-18T00:00:00",
          "2017-02-19T00:00:00",
          "2017-02-20T00:00:00",
          "2017-02-21T00:00:00",
          "2017-02-22T00:00:00",
          "2017-02-23T00:00:00",
          "2017-02-24T00:00:00",
          "2017-02-25T00:00:00",
          "2017-02-26T00:00:00",
          "2017-02-27T00:00:00",
          "2017-02-28T00:00:00",
          "2017-03-01T00:00:00",
          "2017-03-02T00:00:00",
          "2017-03-03T00:00:00",
          "2017-03-04T00:00:00",
          "2017-03-05T00:00:00",
          "2017-03-06T00:00:00",
          "2017-03-07T00:00:00",
          "2017-03-08T00:00:00",
          "2017-03-09T00:00:00",
          "2017-03-10T00:00:00",
          "2017-03-11T00:00:00",
          "2017-03-12T00:00:00",
          "2017-03-13T00:00:00",
          "2017-03-14T00:00:00",
          "2017-03-15T00:00:00",
          "2017-03-16T00:00:00",
          "2017-03-17T00:00:00",
          "2017-03-18T00:00:00",
          "2017-03-19T00:00:00",
          "2017-03-20T00:00:00",
          "2017-03-21T00:00:00",
          "2017-03-22T00:00:00",
          "2017-03-23T00:00:00",
          "2017-03-24T00:00:00",
          "2017-03-25T00:00:00",
          "2017-03-26T00:00:00",
          "2017-03-27T00:00:00",
          "2017-03-28T00:00:00",
          "2017-03-29T00:00:00",
          "2017-03-30T00:00:00",
          "2017-03-31T00:00:00",
          "2017-04-01T00:00:00",
          "2017-04-02T00:00:00",
          "2017-04-03T00:00:00",
          "2017-04-04T00:00:00",
          "2017-04-05T00:00:00",
          "2017-04-06T00:00:00",
          "2017-04-07T00:00:00",
          "2017-04-08T00:00:00",
          "2017-04-09T00:00:00",
          "2017-04-10T00:00:00",
          "2017-04-11T00:00:00",
          "2017-04-12T00:00:00",
          "2017-04-13T00:00:00",
          "2017-04-14T00:00:00",
          "2017-04-15T00:00:00",
          "2017-04-16T00:00:00",
          "2017-04-17T00:00:00",
          "2017-04-18T00:00:00",
          "2017-04-19T00:00:00",
          "2017-04-20T00:00:00",
          "2017-04-21T00:00:00",
          "2017-04-22T00:00:00",
          "2017-04-23T00:00:00",
          "2017-04-24T00:00:00"
         ],
         "xaxis": "x",
         "y": [
          15.91304347826087,
          18.5,
          17.11111111111111,
          18.7,
          18.38888888888889,
          19.318181818181817,
          14.708333333333334,
          15.68421052631579,
          14.571428571428571,
          12.11111111111111,
          11,
          11.789473684210526,
          13.235294117647058,
          13.2,
          16.434782608695652,
          14.65,
          11.72222222222222,
          13.041666666666666,
          14.61904761904762,
          15.263157894736842,
          15.391304347826088,
          18.44,
          18.11764705882353,
          18.347826086956523,
          21,
          16.178571428571427,
          16.5,
          14.863636363636363,
          15.666666666666666,
          16.444444444444443,
          16.125,
          15.25,
          17.09090909090909,
          15.636363636363637,
          18.7,
          18.63157894736842,
          16.88888888888889,
          15.125,
          15.7,
          15.375,
          14.666666666666666,
          15.625,
          16.25,
          16.333333333333332,
          16.875,
          17.571428571428573,
          20.25,
          21.3,
          21.125,
          22.363636363636363,
          23.375,
          21.83333333333333,
          19.125,
          18.625,
          19.125,
          19,
          18.75,
          19.875,
          23.33333333333333,
          24.46153846153846,
          23.75,
          20.5,
          19.125,
          19.75,
          20,
          22.625,
          21.545454545454547,
          20.785714285714285,
          19.9375,
          18.53333333333333,
          17.375,
          17.444444444444443,
          18,
          19.875,
          24,
          20.9,
          24.692307692307693,
          24.666666666666668,
          23.33333333333333,
          25,
          27.25,
          28,
          28.916666666666668,
          26.5,
          29.1,
          29.5,
          29.88888888888889,
          31,
          29.285714285714285,
          30.625,
          31.375,
          29.75,
          30.5,
          30.933333333333334,
          29.23076923076923,
          31.22222222222222,
          27,
          25.625,
          27.125,
          27.857142857142858,
          29.25,
          29.25,
          29.666666666666668,
          30.5,
          31.22222222222222,
          31,
          32.55555555555556,
          34,
          33.5,
          34.5,
          34.25,
          32.9,
          32.875,
          32
         ],
         "yaxis": "y"
        },
        {
         "hovertemplate": "variable=pred_wfv<br>date=%{x}<br>meantemp=%{y}<extra></extra>",
         "legendgroup": "pred_wfv",
         "line": {
          "color": "#EF553B",
          "dash": "solid"
         },
         "marker": {
          "symbol": "circle"
         },
         "mode": "lines",
         "name": "pred_wfv",
         "orientation": "v",
         "showlegend": true,
         "type": "scatter",
         "x": [
          "2017-01-01T00:00:00",
          "2017-01-02T00:00:00",
          "2017-01-03T00:00:00",
          "2017-01-04T00:00:00",
          "2017-01-05T00:00:00",
          "2017-01-06T00:00:00",
          "2017-01-07T00:00:00",
          "2017-01-08T00:00:00",
          "2017-01-09T00:00:00",
          "2017-01-10T00:00:00",
          "2017-01-11T00:00:00",
          "2017-01-12T00:00:00",
          "2017-01-13T00:00:00",
          "2017-01-14T00:00:00",
          "2017-01-15T00:00:00",
          "2017-01-16T00:00:00",
          "2017-01-17T00:00:00",
          "2017-01-18T00:00:00",
          "2017-01-19T00:00:00",
          "2017-01-20T00:00:00",
          "2017-01-21T00:00:00",
          "2017-01-22T00:00:00",
          "2017-01-23T00:00:00",
          "2017-01-24T00:00:00",
          "2017-01-25T00:00:00",
          "2017-01-26T00:00:00",
          "2017-01-27T00:00:00",
          "2017-01-28T00:00:00",
          "2017-01-29T00:00:00",
          "2017-01-30T00:00:00",
          "2017-01-31T00:00:00",
          "2017-02-01T00:00:00",
          "2017-02-02T00:00:00",
          "2017-02-03T00:00:00",
          "2017-02-04T00:00:00",
          "2017-02-05T00:00:00",
          "2017-02-06T00:00:00",
          "2017-02-07T00:00:00",
          "2017-02-08T00:00:00",
          "2017-02-09T00:00:00",
          "2017-02-10T00:00:00",
          "2017-02-11T00:00:00",
          "2017-02-12T00:00:00",
          "2017-02-13T00:00:00",
          "2017-02-14T00:00:00",
          "2017-02-15T00:00:00",
          "2017-02-16T00:00:00",
          "2017-02-17T00:00:00",
          "2017-02-18T00:00:00",
          "2017-02-19T00:00:00",
          "2017-02-20T00:00:00",
          "2017-02-21T00:00:00",
          "2017-02-22T00:00:00",
          "2017-02-23T00:00:00",
          "2017-02-24T00:00:00",
          "2017-02-25T00:00:00",
          "2017-02-26T00:00:00",
          "2017-02-27T00:00:00",
          "2017-02-28T00:00:00",
          "2017-03-01T00:00:00",
          "2017-03-02T00:00:00",
          "2017-03-03T00:00:00",
          "2017-03-04T00:00:00",
          "2017-03-05T00:00:00",
          "2017-03-06T00:00:00",
          "2017-03-07T00:00:00",
          "2017-03-08T00:00:00",
          "2017-03-09T00:00:00",
          "2017-03-10T00:00:00",
          "2017-03-11T00:00:00",
          "2017-03-12T00:00:00",
          "2017-03-13T00:00:00",
          "2017-03-14T00:00:00",
          "2017-03-15T00:00:00",
          "2017-03-16T00:00:00",
          "2017-03-17T00:00:00",
          "2017-03-18T00:00:00",
          "2017-03-19T00:00:00",
          "2017-03-20T00:00:00",
          "2017-03-21T00:00:00",
          "2017-03-22T00:00:00",
          "2017-03-23T00:00:00",
          "2017-03-24T00:00:00",
          "2017-03-25T00:00:00",
          "2017-03-26T00:00:00",
          "2017-03-27T00:00:00",
          "2017-03-28T00:00:00",
          "2017-03-29T00:00:00",
          "2017-03-30T00:00:00",
          "2017-03-31T00:00:00",
          "2017-04-01T00:00:00",
          "2017-04-02T00:00:00",
          "2017-04-03T00:00:00",
          "2017-04-04T00:00:00",
          "2017-04-05T00:00:00",
          "2017-04-06T00:00:00",
          "2017-04-07T00:00:00",
          "2017-04-08T00:00:00",
          "2017-04-09T00:00:00",
          "2017-04-10T00:00:00",
          "2017-04-11T00:00:00",
          "2017-04-12T00:00:00",
          "2017-04-13T00:00:00",
          "2017-04-14T00:00:00",
          "2017-04-15T00:00:00",
          "2017-04-16T00:00:00",
          "2017-04-17T00:00:00",
          "2017-04-18T00:00:00",
          "2017-04-19T00:00:00",
          "2017-04-20T00:00:00",
          "2017-04-21T00:00:00",
          "2017-04-22T00:00:00",
          "2017-04-23T00:00:00",
          "2017-04-24T00:00:00"
         ],
         "xaxis": "x",
         "y": [
          11.535124360265671,
          15.794084060312398,
          18.15554961512543,
          16.19470567539562,
          17.845060271522506,
          17.921468772707094,
          18.71094480296911,
          15.179935812123823,
          16.005013873191228,
          15.341925071767637,
          12.619373602776122,
          12.322462250795365,
          12.889326703890086,
          13.498071472440456,
          13.70876167026762,
          16.34492756107905,
          15.022130671865321,
          12.439180257755336,
          13.782218468871354,
          15.104421183039904,
          14.944826324361848,
          14.926497286563004,
          17.34998423965375,
          17.1480073121179,
          17.355345013293608,
          20.01965832380582,
          16.313644548377756,
          16.255676908153173,
          15.697661762460285,
          16.011903680589967,
          16.472457916359886,
          16.175422595162004,
          15.918003947696766,
          17.072020144093763,
          16.351996601609724,
          18.610455462540706,
          18.569062982552545,
          17.059662507245626,
          15.939853507674798,
          16.18209165457075,
          16.184272690290342,
          15.189426319730131,
          15.961650462895008,
          16.521920488796376,
          16.467261863036875,
          17.055286579821683,
          17.74224235313945,
          19.478739091661296,
          20.60057250297362,
          20.52190641547404,
          21.543078504921425,
          22.302058263402472,
          21.50062019589224,
          19.4174230622503,
          19.080927791982827,
          19.443036033726024,
          19.431813589934677,
          19.274245775290332,
          20.119469899546516,
          22.766793334909874,
          24.169481799137603,
          23.670199470195623,
          21.19973907061774,
          19.975635565443426,
          20.65727205510592,
          20.666833452359427,
          22.33766525352891,
          21.378315236444195,
          20.851092071797336,
          20.6493247895354,
          19.657352807321487,
          18.64214361276204,
          18.482858782765646,
          18.947355576381263,
          20.22077421122181,
          23.224870468209325,
          21.1720935881538,
          23.689511899452068,
          24.210804125393217,
          23.082386986972352,
          24.460195787457085,
          26.20521936304277,
          26.894724118537955,
          27.4387823410907,
          26.10163067489352,
          28.203684839235677,
          28.696013490406038,
          29.318695799340475,
          30.511972224289615,
          28.868820855443495,
          30.45037468126674,
          31.261406649731317,
          30.027644463639625,
          30.52451984663153,
          31.018303549363083,
          29.88272748671833,
          31.40077532203108,
          28.18255526396292,
          27.07048422995024,
          28.00028054349484,
          28.784364262504898,
          29.65154994549415,
          29.373969024431954,
          29.91120098971528,
          30.63297874305046,
          31.106188614383377,
          31.279220222409485,
          31.975936570974895,
          33.30331751704583,
          33.07447238153469,
          33.7570179905109,
          33.66715127495651,
          32.86559638445434,
          32.86915713429585
         ],
         "yaxis": "y"
        }
       ],
       "layout": {
        "legend": {
         "title": {
          "text": "variable"
         },
         "tracegroupgap": 0
        },
        "margin": {
         "t": 60
        },
        "template": {
         "data": {
          "bar": [
           {
            "error_x": {
             "color": "#2a3f5f"
            },
            "error_y": {
             "color": "#2a3f5f"
            },
            "marker": {
             "line": {
              "color": "#E5ECF6",
              "width": 0.5
             },
             "pattern": {
              "fillmode": "overlay",
              "size": 10,
              "solidity": 0.2
             }
            },
            "type": "bar"
           }
          ],
          "barpolar": [
           {
            "marker": {
             "line": {
              "color": "#E5ECF6",
              "width": 0.5
             },
             "pattern": {
              "fillmode": "overlay",
              "size": 10,
              "solidity": 0.2
             }
            },
            "type": "barpolar"
           }
          ],
          "carpet": [
           {
            "aaxis": {
             "endlinecolor": "#2a3f5f",
             "gridcolor": "white",
             "linecolor": "white",
             "minorgridcolor": "white",
             "startlinecolor": "#2a3f5f"
            },
            "baxis": {
             "endlinecolor": "#2a3f5f",
             "gridcolor": "white",
             "linecolor": "white",
             "minorgridcolor": "white",
             "startlinecolor": "#2a3f5f"
            },
            "type": "carpet"
           }
          ],
          "choropleth": [
           {
            "colorbar": {
             "outlinewidth": 0,
             "ticks": ""
            },
            "type": "choropleth"
           }
          ],
          "contour": [
           {
            "colorbar": {
             "outlinewidth": 0,
             "ticks": ""
            },
            "colorscale": [
             [
              0,
              "#0d0887"
             ],
             [
              0.1111111111111111,
              "#46039f"
             ],
             [
              0.2222222222222222,
              "#7201a8"
             ],
             [
              0.3333333333333333,
              "#9c179e"
             ],
             [
              0.4444444444444444,
              "#bd3786"
             ],
             [
              0.5555555555555556,
              "#d8576b"
             ],
             [
              0.6666666666666666,
              "#ed7953"
             ],
             [
              0.7777777777777778,
              "#fb9f3a"
             ],
             [
              0.8888888888888888,
              "#fdca26"
             ],
             [
              1,
              "#f0f921"
             ]
            ],
            "type": "contour"
           }
          ],
          "contourcarpet": [
           {
            "colorbar": {
             "outlinewidth": 0,
             "ticks": ""
            },
            "type": "contourcarpet"
           }
          ],
          "heatmap": [
           {
            "colorbar": {
             "outlinewidth": 0,
             "ticks": ""
            },
            "colorscale": [
             [
              0,
              "#0d0887"
             ],
             [
              0.1111111111111111,
              "#46039f"
             ],
             [
              0.2222222222222222,
              "#7201a8"
             ],
             [
              0.3333333333333333,
              "#9c179e"
             ],
             [
              0.4444444444444444,
              "#bd3786"
             ],
             [
              0.5555555555555556,
              "#d8576b"
             ],
             [
              0.6666666666666666,
              "#ed7953"
             ],
             [
              0.7777777777777778,
              "#fb9f3a"
             ],
             [
              0.8888888888888888,
              "#fdca26"
             ],
             [
              1,
              "#f0f921"
             ]
            ],
            "type": "heatmap"
           }
          ],
          "heatmapgl": [
           {
            "colorbar": {
             "outlinewidth": 0,
             "ticks": ""
            },
            "colorscale": [
             [
              0,
              "#0d0887"
             ],
             [
              0.1111111111111111,
              "#46039f"
             ],
             [
              0.2222222222222222,
              "#7201a8"
             ],
             [
              0.3333333333333333,
              "#9c179e"
             ],
             [
              0.4444444444444444,
              "#bd3786"
             ],
             [
              0.5555555555555556,
              "#d8576b"
             ],
             [
              0.6666666666666666,
              "#ed7953"
             ],
             [
              0.7777777777777778,
              "#fb9f3a"
             ],
             [
              0.8888888888888888,
              "#fdca26"
             ],
             [
              1,
              "#f0f921"
             ]
            ],
            "type": "heatmapgl"
           }
          ],
          "histogram": [
           {
            "marker": {
             "pattern": {
              "fillmode": "overlay",
              "size": 10,
              "solidity": 0.2
             }
            },
            "type": "histogram"
           }
          ],
          "histogram2d": [
           {
            "colorbar": {
             "outlinewidth": 0,
             "ticks": ""
            },
            "colorscale": [
             [
              0,
              "#0d0887"
             ],
             [
              0.1111111111111111,
              "#46039f"
             ],
             [
              0.2222222222222222,
              "#7201a8"
             ],
             [
              0.3333333333333333,
              "#9c179e"
             ],
             [
              0.4444444444444444,
              "#bd3786"
             ],
             [
              0.5555555555555556,
              "#d8576b"
             ],
             [
              0.6666666666666666,
              "#ed7953"
             ],
             [
              0.7777777777777778,
              "#fb9f3a"
             ],
             [
              0.8888888888888888,
              "#fdca26"
             ],
             [
              1,
              "#f0f921"
             ]
            ],
            "type": "histogram2d"
           }
          ],
          "histogram2dcontour": [
           {
            "colorbar": {
             "outlinewidth": 0,
             "ticks": ""
            },
            "colorscale": [
             [
              0,
              "#0d0887"
             ],
             [
              0.1111111111111111,
              "#46039f"
             ],
             [
              0.2222222222222222,
              "#7201a8"
             ],
             [
              0.3333333333333333,
              "#9c179e"
             ],
             [
              0.4444444444444444,
              "#bd3786"
             ],
             [
              0.5555555555555556,
              "#d8576b"
             ],
             [
              0.6666666666666666,
              "#ed7953"
             ],
             [
              0.7777777777777778,
              "#fb9f3a"
             ],
             [
              0.8888888888888888,
              "#fdca26"
             ],
             [
              1,
              "#f0f921"
             ]
            ],
            "type": "histogram2dcontour"
           }
          ],
          "mesh3d": [
           {
            "colorbar": {
             "outlinewidth": 0,
             "ticks": ""
            },
            "type": "mesh3d"
           }
          ],
          "parcoords": [
           {
            "line": {
             "colorbar": {
              "outlinewidth": 0,
              "ticks": ""
             }
            },
            "type": "parcoords"
           }
          ],
          "pie": [
           {
            "automargin": true,
            "type": "pie"
           }
          ],
          "scatter": [
           {
            "fillpattern": {
             "fillmode": "overlay",
             "size": 10,
             "solidity": 0.2
            },
            "type": "scatter"
           }
          ],
          "scatter3d": [
           {
            "line": {
             "colorbar": {
              "outlinewidth": 0,
              "ticks": ""
             }
            },
            "marker": {
             "colorbar": {
              "outlinewidth": 0,
              "ticks": ""
             }
            },
            "type": "scatter3d"
           }
          ],
          "scattercarpet": [
           {
            "marker": {
             "colorbar": {
              "outlinewidth": 0,
              "ticks": ""
             }
            },
            "type": "scattercarpet"
           }
          ],
          "scattergeo": [
           {
            "marker": {
             "colorbar": {
              "outlinewidth": 0,
              "ticks": ""
             }
            },
            "type": "scattergeo"
           }
          ],
          "scattergl": [
           {
            "marker": {
             "colorbar": {
              "outlinewidth": 0,
              "ticks": ""
             }
            },
            "type": "scattergl"
           }
          ],
          "scattermapbox": [
           {
            "marker": {
             "colorbar": {
              "outlinewidth": 0,
              "ticks": ""
             }
            },
            "type": "scattermapbox"
           }
          ],
          "scatterpolar": [
           {
            "marker": {
             "colorbar": {
              "outlinewidth": 0,
              "ticks": ""
             }
            },
            "type": "scatterpolar"
           }
          ],
          "scatterpolargl": [
           {
            "marker": {
             "colorbar": {
              "outlinewidth": 0,
              "ticks": ""
             }
            },
            "type": "scatterpolargl"
           }
          ],
          "scatterternary": [
           {
            "marker": {
             "colorbar": {
              "outlinewidth": 0,
              "ticks": ""
             }
            },
            "type": "scatterternary"
           }
          ],
          "surface": [
           {
            "colorbar": {
             "outlinewidth": 0,
             "ticks": ""
            },
            "colorscale": [
             [
              0,
              "#0d0887"
             ],
             [
              0.1111111111111111,
              "#46039f"
             ],
             [
              0.2222222222222222,
              "#7201a8"
             ],
             [
              0.3333333333333333,
              "#9c179e"
             ],
             [
              0.4444444444444444,
              "#bd3786"
             ],
             [
              0.5555555555555556,
              "#d8576b"
             ],
             [
              0.6666666666666666,
              "#ed7953"
             ],
             [
              0.7777777777777778,
              "#fb9f3a"
             ],
             [
              0.8888888888888888,
              "#fdca26"
             ],
             [
              1,
              "#f0f921"
             ]
            ],
            "type": "surface"
           }
          ],
          "table": [
           {
            "cells": {
             "fill": {
              "color": "#EBF0F8"
             },
             "line": {
              "color": "white"
             }
            },
            "header": {
             "fill": {
              "color": "#C8D4E3"
             },
             "line": {
              "color": "white"
             }
            },
            "type": "table"
           }
          ]
         },
         "layout": {
          "annotationdefaults": {
           "arrowcolor": "#2a3f5f",
           "arrowhead": 0,
           "arrowwidth": 1
          },
          "autotypenumbers": "strict",
          "coloraxis": {
           "colorbar": {
            "outlinewidth": 0,
            "ticks": ""
           }
          },
          "colorscale": {
           "diverging": [
            [
             0,
             "#8e0152"
            ],
            [
             0.1,
             "#c51b7d"
            ],
            [
             0.2,
             "#de77ae"
            ],
            [
             0.3,
             "#f1b6da"
            ],
            [
             0.4,
             "#fde0ef"
            ],
            [
             0.5,
             "#f7f7f7"
            ],
            [
             0.6,
             "#e6f5d0"
            ],
            [
             0.7,
             "#b8e186"
            ],
            [
             0.8,
             "#7fbc41"
            ],
            [
             0.9,
             "#4d9221"
            ],
            [
             1,
             "#276419"
            ]
           ],
           "sequential": [
            [
             0,
             "#0d0887"
            ],
            [
             0.1111111111111111,
             "#46039f"
            ],
            [
             0.2222222222222222,
             "#7201a8"
            ],
            [
             0.3333333333333333,
             "#9c179e"
            ],
            [
             0.4444444444444444,
             "#bd3786"
            ],
            [
             0.5555555555555556,
             "#d8576b"
            ],
            [
             0.6666666666666666,
             "#ed7953"
            ],
            [
             0.7777777777777778,
             "#fb9f3a"
            ],
            [
             0.8888888888888888,
             "#fdca26"
            ],
            [
             1,
             "#f0f921"
            ]
           ],
           "sequentialminus": [
            [
             0,
             "#0d0887"
            ],
            [
             0.1111111111111111,
             "#46039f"
            ],
            [
             0.2222222222222222,
             "#7201a8"
            ],
            [
             0.3333333333333333,
             "#9c179e"
            ],
            [
             0.4444444444444444,
             "#bd3786"
            ],
            [
             0.5555555555555556,
             "#d8576b"
            ],
            [
             0.6666666666666666,
             "#ed7953"
            ],
            [
             0.7777777777777778,
             "#fb9f3a"
            ],
            [
             0.8888888888888888,
             "#fdca26"
            ],
            [
             1,
             "#f0f921"
            ]
           ]
          },
          "colorway": [
           "#636efa",
           "#EF553B",
           "#00cc96",
           "#ab63fa",
           "#FFA15A",
           "#19d3f3",
           "#FF6692",
           "#B6E880",
           "#FF97FF",
           "#FECB52"
          ],
          "font": {
           "color": "#2a3f5f"
          },
          "geo": {
           "bgcolor": "white",
           "lakecolor": "white",
           "landcolor": "#E5ECF6",
           "showlakes": true,
           "showland": true,
           "subunitcolor": "white"
          },
          "hoverlabel": {
           "align": "left"
          },
          "hovermode": "closest",
          "mapbox": {
           "style": "light"
          },
          "paper_bgcolor": "white",
          "plot_bgcolor": "#E5ECF6",
          "polar": {
           "angularaxis": {
            "gridcolor": "white",
            "linecolor": "white",
            "ticks": ""
           },
           "bgcolor": "#E5ECF6",
           "radialaxis": {
            "gridcolor": "white",
            "linecolor": "white",
            "ticks": ""
           }
          },
          "scene": {
           "xaxis": {
            "backgroundcolor": "#E5ECF6",
            "gridcolor": "white",
            "gridwidth": 2,
            "linecolor": "white",
            "showbackground": true,
            "ticks": "",
            "zerolinecolor": "white"
           },
           "yaxis": {
            "backgroundcolor": "#E5ECF6",
            "gridcolor": "white",
            "gridwidth": 2,
            "linecolor": "white",
            "showbackground": true,
            "ticks": "",
            "zerolinecolor": "white"
           },
           "zaxis": {
            "backgroundcolor": "#E5ECF6",
            "gridcolor": "white",
            "gridwidth": 2,
            "linecolor": "white",
            "showbackground": true,
            "ticks": "",
            "zerolinecolor": "white"
           }
          },
          "shapedefaults": {
           "line": {
            "color": "#2a3f5f"
           }
          },
          "ternary": {
           "aaxis": {
            "gridcolor": "white",
            "linecolor": "white",
            "ticks": ""
           },
           "baxis": {
            "gridcolor": "white",
            "linecolor": "white",
            "ticks": ""
           },
           "bgcolor": "#E5ECF6",
           "caxis": {
            "gridcolor": "white",
            "linecolor": "white",
            "ticks": ""
           }
          },
          "title": {
           "x": 0.05
          },
          "xaxis": {
           "automargin": true,
           "gridcolor": "white",
           "linecolor": "white",
           "ticks": "",
           "title": {
            "standoff": 15
           },
           "zerolinecolor": "white",
           "zerolinewidth": 2
          },
          "yaxis": {
           "automargin": true,
           "gridcolor": "white",
           "linecolor": "white",
           "ticks": "",
           "title": {
            "standoff": 15
           },
           "zerolinecolor": "white",
           "zerolinewidth": 2
          }
         }
        },
        "xaxis": {
         "anchor": "y",
         "domain": [
          0,
          1
         ],
         "title": {
          "text": "date"
         }
        },
        "yaxis": {
         "anchor": "x",
         "domain": [
          0,
          1
         ],
         "title": {
          "text": "meantemp"
         }
        }
       }
      }
     },
     "metadata": {},
     "output_type": "display_data"
    }
   ],
   "source": [
    "df_pred_test = pd.DataFrame(\n",
    "    {\n",
    "    'test_df': X_test,\n",
    "    'pred_wfv': pred_wfv\n",
    "    }\n",
    ")\n",
    "fig = px.line(df_pred_test, labels = {'value': 'meantemp'})\n",
    "fig.show()"
   ]
  },
  {
   "cell_type": "code",
   "execution_count": 47,
   "metadata": {},
   "outputs": [
    {
     "data": {
      "image/png": "[encoded data removed]",
      "text/plain": [
       "<Figure size 1200x400 with 1 Axes>"
      ]
     },
     "metadata": {},
     "output_type": "display_data"
    }
   ],
   "source": [
    "# Create a DataFrame for the actual and predicted values\n",
    "df_pred_test = pd.DataFrame({\n",
    "    'y_test': X_test,\n",
    "    'y_pred': pred_wfv  # Use pred_wfv for predictions from the ARIMA model\n",
    "})\n",
    "\n",
    "# Plotting\n",
    "plt.figure(figsize=(12, 4))\n",
    "plt.plot(df_pred_test.index, df_pred_test['y_test'], label='Actual', color='blue')\n",
    "plt.plot(df_pred_test.index, df_pred_test['y_pred'], label='Predicted', color='red')\n",
    "\n",
    "# Adding titles and labels\n",
    "plt.title('Actual vs Predicted Mean Temperature')\n",
    "plt.xlabel('Date')\n",
    "plt.ylabel('Mean Temperature')\n",
    "plt.legend()\n",
    "plt.grid()\n",
    "plt.show()\n"
   ]
  },
  {
   "cell_type": "markdown",
   "metadata": {},
   "source": [
    "### Model is doing a good job in predicting the future \n",
    "#### However the ARIMA Model is resource intensive and takes a lot of time to train, as compared to the other models ie:\n",
    "#### Linear Regression,  and Autoregressive Model\n",
    "\n",
    "#### Thue if we were to predict the other features of the data, we would have to use either the Linear Regression Model or the Autoregressive Model"
   ]
  },
  {
   "cell_type": "markdown",
   "metadata": {},
   "source": []
  }
 ],
 "metadata": {
  "kernelspec": {
   "display_name": "base",
   "language": "python",
   "name": "python3"
  },
  "language_info": {
   "codemirror_mode": {
    "name": "ipython",
    "version": 3
   },
   "file_extension": ".py",
   "mimetype": "text/x-python",
   "name": "python",
   "nbconvert_exporter": "python",
   "pygments_lexer": "ipython3",
   "version": "3.11.5"
  }
 },
 "nbformat": 4,
 "nbformat_minor": 2
}
